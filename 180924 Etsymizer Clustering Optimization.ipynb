{
 "cells": [
  {
   "cell_type": "code",
   "execution_count": 35,
   "metadata": {},
   "outputs": [],
   "source": [
    "import requests\n",
    "import numpy as np\n",
    "from sklearn.feature_extraction.text import CountVectorizer\n",
    "from sklearn.feature_extraction.text import TfidfVectorizer\n",
    "from sklearn.externals import joblib\n",
    "from sklearn.metrics import mean_absolute_error\n",
    "from sklearn.metrics import explained_variance_score\n",
    "from sklearn.metrics import r2_score\n",
    "from sklearn.model_selection import train_test_split\n",
    "from sklearn.manifold import TSNE\n",
    "from scipy import sparse\n",
    "from sklearn.decomposition import TruncatedSVD\n",
    "from sklearn.preprocessing import Normalizer\n",
    "\n",
    "API_KEY = 'c1lq1mzoyp1z0nx6bsqi9lrk'\n",
    "request_data = {'api_key':'c1lq1mzoyp1z0nx6bsqi9lrk'}\n",
    "\n",
    "listing_id = 570279570\n",
    "request = str('https://openapi.etsy.com/v2/listings/'+str(listing_id))\n",
    "r = requests.get(request, request_data).json()"
   ]
  },
  {
   "cell_type": "code",
   "execution_count": 2,
   "metadata": {},
   "outputs": [
    {
     "name": "stderr",
     "output_type": "stream",
     "text": [
      "/home/mc/anaconda3/envs/datascience/lib/python3.6/site-packages/sklearn/ensemble/weight_boosting.py:29: DeprecationWarning: numpy.core.umath_tests is an internal NumPy module and should not be imported. It will be removed in a future NumPy release.\n",
      "  from numpy.core.umath_tests import inner1d\n"
     ]
    }
   ],
   "source": [
    "# Load models and data structures\n",
    "views_est = joblib.load('tfidf_views_GradientBoostingRegressor.pkl') \n",
    "price_est = joblib.load('tfidf_price_GradientBoostingRegressor.pkl') \n",
    "lda = joblib.load('tf_lda.pkl') \n",
    "nmf = joblib.load('tfidf_nmf.pkl')\n",
    "listings = joblib.load('listings.pkl')\n",
    "features = joblib.load('all_features.pickle')\n",
    "tf_features = joblib.load('tf_features.pkl')\n",
    "tfidf_features = joblib.load('tfidf_features.pkl')\n",
    "tf_vectorizer = joblib.load('tf_vectorizer.pkl')\n",
    "tfidf_vectorizer = joblib.load('tfidf_vectorizer.pkl')\n",
    "\n",
    "tf_feature_names = tf_vectorizer.get_feature_names()\n",
    "prices = np.nan_to_num(listings['price'].tolist())\n",
    "views = np.nan_to_num(listings['views'].tolist())\n",
    "favorers = np.nan_to_num(listings['num_favorers'].tolist())\n",
    "test_size = 0.1\n",
    "\n",
    "tfidf_price_train, tfidf_price_test, y_price_train, y_price_test = train_test_split(\n",
    "    tfidf_features, prices, test_size = test_size)\n",
    "\n",
    "tfidf_views_train, tfidf_views_test, y_views_train, y_views_test = train_test_split(\n",
    "    tfidf_features, views, test_size = test_size)\n",
    "\n",
    "n_features = 1000 # Number of features\n",
    "n_samples = 36570 # Number of samples\n",
    "n_components = 100 # Number of components\n",
    "n_top_words = 10  # Number of top words"
   ]
  },
  {
   "cell_type": "code",
   "execution_count": 32,
   "metadata": {},
   "outputs": [],
   "source": [
    "svd = TruncatedSVD(n_components=5, n_iter=7, random_state=42)"
   ]
  },
  {
   "cell_type": "code",
   "execution_count": 33,
   "metadata": {},
   "outputs": [
    {
     "data": {
      "text/plain": [
       "TruncatedSVD(algorithm='randomized', n_components=5, n_iter=7,\n",
       "       random_state=42, tol=0.0)"
      ]
     },
     "execution_count": 33,
     "metadata": {},
     "output_type": "execute_result"
    }
   ],
   "source": [
    "svd.fit(tfidf_features)"
   ]
  },
  {
   "cell_type": "code",
   "execution_count": 34,
   "metadata": {},
   "outputs": [
    {
     "name": "stdout",
     "output_type": "stream",
     "text": [
      "[0.02195411 0.03607962 0.03206273 0.01864229 0.01431567]\n"
     ]
    }
   ],
   "source": [
    "print(svd.explained_variance_ratio_) "
   ]
  },
  {
   "cell_type": "code",
   "execution_count": null,
   "metadata": {},
   "outputs": [],
   "source": []
  },
  {
   "cell_type": "code",
   "execution_count": null,
   "metadata": {},
   "outputs": [],
   "source": []
  },
  {
   "cell_type": "code",
   "execution_count": null,
   "metadata": {},
   "outputs": [],
   "source": []
  },
  {
   "cell_type": "code",
   "execution_count": null,
   "metadata": {},
   "outputs": [],
   "source": []
  },
  {
   "cell_type": "code",
   "execution_count": 17,
   "metadata": {},
   "outputs": [],
   "source": [
    "tsne_model = TSNE(n_components=2, verbose=1, random_state=0, angle=.99, init='pca')"
   ]
  },
  {
   "cell_type": "code",
   "execution_count": 29,
   "metadata": {},
   "outputs": [
    {
     "name": "stdout",
     "output_type": "stream",
     "text": [
      "[t-SNE] Computing 91 nearest neighbors...\n",
      "[t-SNE] Indexed 36570 samples in 4.110s...\n",
      "[t-SNE] Computed neighbors for 36570 samples in 1530.993s...\n",
      "[t-SNE] Computed conditional probabilities for sample 1000 / 36570\n",
      "[t-SNE] Computed conditional probabilities for sample 2000 / 36570\n",
      "[t-SNE] Computed conditional probabilities for sample 3000 / 36570\n",
      "[t-SNE] Computed conditional probabilities for sample 4000 / 36570\n",
      "[t-SNE] Computed conditional probabilities for sample 5000 / 36570\n",
      "[t-SNE] Computed conditional probabilities for sample 6000 / 36570\n",
      "[t-SNE] Computed conditional probabilities for sample 7000 / 36570\n",
      "[t-SNE] Computed conditional probabilities for sample 8000 / 36570\n",
      "[t-SNE] Computed conditional probabilities for sample 9000 / 36570\n",
      "[t-SNE] Computed conditional probabilities for sample 10000 / 36570\n",
      "[t-SNE] Computed conditional probabilities for sample 11000 / 36570\n",
      "[t-SNE] Computed conditional probabilities for sample 12000 / 36570\n",
      "[t-SNE] Computed conditional probabilities for sample 13000 / 36570\n",
      "[t-SNE] Computed conditional probabilities for sample 14000 / 36570\n",
      "[t-SNE] Computed conditional probabilities for sample 15000 / 36570\n",
      "[t-SNE] Computed conditional probabilities for sample 16000 / 36570\n",
      "[t-SNE] Computed conditional probabilities for sample 17000 / 36570\n",
      "[t-SNE] Computed conditional probabilities for sample 18000 / 36570\n",
      "[t-SNE] Computed conditional probabilities for sample 19000 / 36570\n",
      "[t-SNE] Computed conditional probabilities for sample 20000 / 36570\n",
      "[t-SNE] Computed conditional probabilities for sample 21000 / 36570\n",
      "[t-SNE] Computed conditional probabilities for sample 22000 / 36570\n",
      "[t-SNE] Computed conditional probabilities for sample 23000 / 36570\n",
      "[t-SNE] Computed conditional probabilities for sample 24000 / 36570\n",
      "[t-SNE] Computed conditional probabilities for sample 25000 / 36570\n",
      "[t-SNE] Computed conditional probabilities for sample 26000 / 36570\n",
      "[t-SNE] Computed conditional probabilities for sample 27000 / 36570\n",
      "[t-SNE] Computed conditional probabilities for sample 28000 / 36570\n",
      "[t-SNE] Computed conditional probabilities for sample 29000 / 36570\n",
      "[t-SNE] Computed conditional probabilities for sample 30000 / 36570\n",
      "[t-SNE] Computed conditional probabilities for sample 31000 / 36570\n",
      "[t-SNE] Computed conditional probabilities for sample 32000 / 36570\n",
      "[t-SNE] Computed conditional probabilities for sample 33000 / 36570\n",
      "[t-SNE] Computed conditional probabilities for sample 34000 / 36570\n",
      "[t-SNE] Computed conditional probabilities for sample 35000 / 36570\n",
      "[t-SNE] Computed conditional probabilities for sample 36000 / 36570\n",
      "[t-SNE] Computed conditional probabilities for sample 36570 / 36570\n",
      "[t-SNE] Mean sigma: 0.000000\n",
      "[t-SNE] KL divergence after 250 iterations with early exaggeration: 102.320015\n",
      "[t-SNE] Error after 1000 iterations: 2.846776\n"
     ]
    }
   ],
   "source": [
    "tsne_lda = tsne_model.fit_transform(sparse.csr_matrix.todense(tf_features))"
   ]
  },
  {
   "cell_type": "code",
   "execution_count": 28,
   "metadata": {},
   "outputs": [
    {
     "data": {
      "text/plain": [
       "matrix([[0, 0, 0, ..., 0, 0, 0],\n",
       "        [0, 0, 0, ..., 0, 0, 0],\n",
       "        [0, 0, 0, ..., 0, 0, 0],\n",
       "        ...,\n",
       "        [0, 0, 0, ..., 0, 0, 0],\n",
       "        [0, 0, 0, ..., 0, 0, 0],\n",
       "        [0, 0, 0, ..., 0, 0, 0]])"
      ]
     },
     "execution_count": 28,
     "metadata": {},
     "output_type": "execute_result"
    }
   ],
   "source": []
  },
  {
   "cell_type": "code",
   "execution_count": null,
   "metadata": {},
   "outputs": [],
   "source": []
  },
  {
   "cell_type": "code",
   "execution_count": null,
   "metadata": {},
   "outputs": [],
   "source": []
  },
  {
   "cell_type": "code",
   "execution_count": null,
   "metadata": {},
   "outputs": [],
   "source": []
  }
 ],
 "metadata": {
  "kernelspec": {
   "display_name": "Python 3",
   "language": "python",
   "name": "python3"
  },
  "language_info": {
   "codemirror_mode": {
    "name": "ipython",
    "version": 3
   },
   "file_extension": ".py",
   "mimetype": "text/x-python",
   "name": "python",
   "nbconvert_exporter": "python",
   "pygments_lexer": "ipython3",
   "version": "3.6.6"
  }
 },
 "nbformat": 4,
 "nbformat_minor": 2
}
