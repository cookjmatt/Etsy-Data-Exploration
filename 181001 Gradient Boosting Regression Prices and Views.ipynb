{
 "cells": [
  {
   "cell_type": "code",
   "execution_count": 1,
   "metadata": {},
   "outputs": [],
   "source": [
    "import time\n",
    "import numpy as np\n",
    "%matplotlib inline\n",
    "import matplotlib.pyplot as plt\n",
    "#import seaborn as sns; sns.set()\n",
    "\n",
    "from sklearn.feature_extraction.text import TfidfVectorizer\n",
    "\n",
    "from sklearn.externals import joblib\n",
    "from sklearn.preprocessing import QuantileTransformer\n",
    "from sklearn import model_selection\n",
    "from sklearn.metrics import explained_variance_score, mean_absolute_error, mean_squared_error, median_absolute_error, r2_score\n",
    "from sklearn import linear_model\n",
    "from sklearn import ensemble"
   ]
  },
  {
   "cell_type": "markdown",
   "metadata": {},
   "source": [
    "Function for plotting learning curves"
   ]
  },
  {
   "cell_type": "code",
   "execution_count": 2,
   "metadata": {},
   "outputs": [],
   "source": [
    "def plot_learning_curve(estimator, title, X, y, ylim=None, cv=None,\n",
    "                        n_jobs=None, scoring=\"r2\", train_sizes=np.linspace(.1, 1.0, 5)):\n",
    "    \"\"\"\n",
    "    Generate a simple plot of the test and training learning curve.\n",
    "\n",
    "    Parameters\n",
    "    ----------\n",
    "    estimator : object type that implements the \"fit\" and \"predict\" methods\n",
    "        An object of that type which is cloned for each validation.\n",
    "\n",
    "    title : string\n",
    "        Title for the chart.\n",
    "\n",
    "    X : array-like, shape (n_samples, n_features)\n",
    "        Training vector, where n_samples is the number of samples and\n",
    "        n_features is the number of features.\n",
    "\n",
    "    y : array-like, shape (n_samples) or (n_samples, n_features), optional\n",
    "        Target relative to X for classification or regression;\n",
    "        None for unsupervised learning.\n",
    "\n",
    "    ylim : tuple, shape (ymin, ymax), optional\n",
    "        Defines minimum and maximum yvalues plotted.\n",
    "\n",
    "    cv : int, cross-validation generator or an iterable, optional\n",
    "        Determines the cross-validation splitting strategy.\n",
    "        Possible inputs for cv are:\n",
    "          - None, to use the default 3-fold cross-validation,\n",
    "          - integer, to specify the number of folds.\n",
    "          - An object to be used as a cross-validation generator.\n",
    "          - An iterable yielding train/test splits.\n",
    "\n",
    "        For integer/None inputs, if ``y`` is binary or multiclass,\n",
    "        :class:`StratifiedKFold` used. If the estimator is not a classifier\n",
    "        or if ``y`` is neither binary nor multiclass, :class:`KFold` is used.\n",
    "\n",
    "        Refer :ref:`User Guide <cross_validation>` for the various\n",
    "        cross-validators that can be used here.\n",
    "\n",
    "    n_jobs : int or None, optional (default=None)\n",
    "        Number of jobs to run in parallel.\n",
    "        ``None`` means 1 unless in a :obj:`joblib.parallel_backend` context.\n",
    "        ``-1`` means using all processors. See :term:`Glossary <n_jobs>`\n",
    "        for more details.\n",
    "\n",
    "    train_sizes : array-like, shape (n_ticks,), dtype float or int\n",
    "        Relative or absolute numbers of training examples that will be used to\n",
    "        generate the learning curve. If the dtype is float, it is regarded as a\n",
    "        fraction of the maximum size of the training set (that is determined\n",
    "        by the selected validation method), i.e. it has to be within (0, 1].\n",
    "        Otherwise it is interpreted as absolute sizes of the training sets.\n",
    "        Note that for classification the number of samples usually have to\n",
    "        be big enough to contain at least one sample from each class.\n",
    "        (default: np.linspace(0.1, 1.0, 5))\n",
    "    \"\"\"\n",
    "    plt.figure()\n",
    "    plt.title(title)\n",
    "    if ylim is not None:\n",
    "        plt.ylim(*ylim)\n",
    "    plt.xlabel(\"Training examples\")\n",
    "    plt.ylabel(scoring)\n",
    "    train_sizes, train_scores, test_scores = model_selection.learning_curve(\n",
    "        estimator, X, y, cv=cv, n_jobs=n_jobs, scoring=scoring, train_sizes=train_sizes)\n",
    "    train_scores_mean = np.mean(train_scores, axis=1)\n",
    "    train_scores_std = np.std(train_scores, axis=1)\n",
    "    test_scores_mean = np.mean(test_scores, axis=1)\n",
    "    test_scores_std = np.std(test_scores, axis=1)\n",
    "    plt.grid()\n",
    "\n",
    "    plt.fill_between(train_sizes, train_scores_mean - train_scores_std,\n",
    "                     train_scores_mean + train_scores_std, alpha=0.1,\n",
    "                     color=\"r\")\n",
    "    plt.fill_between(train_sizes, test_scores_mean - test_scores_std,\n",
    "                     test_scores_mean + test_scores_std, alpha=0.1, color=\"g\")\n",
    "    plt.plot(train_sizes, train_scores_mean, 'o-', color=\"r\",\n",
    "             label=\"Training score\")\n",
    "    plt.plot(train_sizes, test_scores_mean, 'o-', color=\"g\",\n",
    "             label=\"Cross-validation score\")\n",
    "\n",
    "    plt.legend(loc=\"best\")\n",
    "    return plt"
   ]
  },
  {
   "cell_type": "markdown",
   "metadata": {},
   "source": [
    "Function for plotting validation curves"
   ]
  },
  {
   "cell_type": "code",
   "execution_count": 3,
   "metadata": {},
   "outputs": [],
   "source": [
    "def plot_validation_curve(estimator, title, X, y, ylim=None, cv=None,\n",
    "                        n_jobs=None, param_name=\"alpha\", scoring=\"r2\", param_range = np.linspace(0.0, 1.0, 5)):\n",
    "    plt.figure()\n",
    "    plt.title(title)\n",
    "    if ylim is not None:\n",
    "        plt.ylim(*ylim)\n",
    "    plt.xlabel(\"Parameter range\")\n",
    "    plt.ylabel(scoring)\n",
    "    train_scores, test_scores = model_selection.validation_curve(\n",
    "        estimator, X, y, cv=cv, param_name=param_name, param_range=param_range, scoring=scoring, n_jobs=n_jobs)\n",
    "    train_scores_mean = np.mean(train_scores, axis=1)\n",
    "    train_scores_std = np.std(train_scores, axis=1)\n",
    "    test_scores_mean = np.mean(test_scores, axis=1)\n",
    "    test_scores_std = np.std(test_scores, axis=1)\n",
    "    \n",
    "    plt.grid()\n",
    "    plt.plot(param_range, train_scores_mean, label=\"Training score\",\n",
    "             color=\"darkorange\")\n",
    "    plt.fill_between(param_range, train_scores_mean - train_scores_std,\n",
    "                 train_scores_mean + train_scores_std, alpha=0.2,\n",
    "                 color=\"darkorange\")\n",
    "    plt.plot(param_range, test_scores_mean, label=\"Cross-validation score\",\n",
    "             color=\"navy\")\n",
    "    plt.fill_between(param_range, test_scores_mean - test_scores_std,\n",
    "                 test_scores_mean + test_scores_std, alpha=0.2,\n",
    "                 color=\"navy\")\n",
    "    plt.legend(loc=\"best\")\n",
    "    return plt"
   ]
  },
  {
   "cell_type": "markdown",
   "metadata": {},
   "source": [
    "Load prices and TF-IDF vectorized features"
   ]
  },
  {
   "cell_type": "code",
   "execution_count": 7,
   "metadata": {},
   "outputs": [],
   "source": [
    "prices = joblib.load('../prices_250.pkl')\n",
    "features = joblib.load('../tfidf_vectorized_features_250.pkl')"
   ]
  },
  {
   "cell_type": "markdown",
   "metadata": {},
   "source": [
    "Transform prices"
   ]
  },
  {
   "cell_type": "code",
   "execution_count": 51,
   "metadata": {},
   "outputs": [],
   "source": [
    "quantile_transformer = QuantileTransformer(output_distribution='normal').fit(prices.reshape(-1,1))\n",
    "quantile_prices = quantile_transformer.transform(prices.reshape(-1,1))"
   ]
  },
  {
   "cell_type": "code",
   "execution_count": 18,
   "metadata": {},
   "outputs": [
    {
     "data": {
      "image/png": "[encoded data removed]",
      "text/plain": [
       "<Figure size 720x720 with 4 Axes>"
      ]
     },
     "metadata": {},
     "output_type": "display_data"
    }
   ],
   "source": [
    "fig, ((ax0, ax1),(ax2, ax3)) = plt.subplots(nrows=2, ncols=2, figsize=(10,10))\n",
    "ax0.plot(sorted(prices))\n",
    "ax0.set_title('price')\n",
    "ax2.hist(prices)\n",
    "\n",
    "ax1.plot(sorted(quantile_prices))\n",
    "ax1.set_title('quantile transform')\n",
    "ax3.hist(quantile_prices)\n",
    "\n",
    "plt.show()"
   ]
  },
  {
   "cell_type": "markdown",
   "metadata": {},
   "source": [
    "Perform Gradient Boosting Regression"
   ]
  },
  {
   "cell_type": "code",
   "execution_count": 25,
   "metadata": {},
   "outputs": [],
   "source": [
    "quantile_prices = quantile_prices.reshape(1, -1)"
   ]
  },
  {
   "cell_type": "code",
   "execution_count": 30,
   "metadata": {},
   "outputs": [],
   "source": [
    "quantile_prices = quantile_prices[0]"
   ]
  },
  {
   "cell_type": "code",
   "execution_count": 32,
   "metadata": {},
   "outputs": [
    {
     "name": "stdout",
     "output_type": "stream",
     "text": [
      "      Iter       Train Loss      OOB Improve   Remaining Time \n",
      "         1           0.9535           0.0584          441.68m\n",
      "         2           0.9015           0.0479          450.46m\n",
      "         3           0.8602           0.0415          453.92m\n",
      "         4           0.8263           0.0337          452.29m\n",
      "         5           0.7969           0.0282          449.53m\n",
      "         6           0.7688           0.0280          446.53m\n",
      "         7           0.7442           0.0225          441.69m\n",
      "         8           0.7250           0.0197          436.28m\n",
      "         9           0.7102           0.0168          431.48m\n",
      "        10           0.6928           0.0148          426.87m\n",
      "        20           0.5932           0.0083          385.82m\n",
      "        30           0.5388           0.0042          345.52m\n",
      "        40           0.5053           0.0032          312.18m\n",
      "        50           0.4836           0.0016          281.91m\n",
      "        60           0.4663           0.0013          256.63m\n",
      "        70           0.4520           0.0010          233.51m\n",
      "        80           0.4404           0.0008          215.53m\n",
      "        90           0.4297           0.0009          197.29m\n",
      "       100           0.4214           0.0005          180.52m\n",
      "       200           0.3713           0.0003           51.41m\n"
     ]
    },
    {
     "data": {
      "text/plain": [
       "['prices_estimator.pkl']"
      ]
     },
     "execution_count": 32,
     "metadata": {},
     "output_type": "execute_result"
    }
   ],
   "source": [
    "X_train, X_test, y_train, y_test = model_selection.train_test_split(features, quantile_prices, test_size = 0.2, random_state = 0, shuffle=True)\n",
    "estimator = ensemble.GradientBoostingRegressor(n_estimators=250, max_depth=15, subsample=0.4, random_state=0, verbose=1)\n",
    "estimator.fit(X_train, y_train)\n",
    "joblib.dump(estimator, \"prices_estimator.pkl\")"
   ]
  },
  {
   "cell_type": "code",
   "execution_count": 34,
   "metadata": {},
   "outputs": [],
   "source": [
    "predict = estimator.predict(X_test)"
   ]
  },
  {
   "cell_type": "code",
   "execution_count": 38,
   "metadata": {},
   "outputs": [
    {
     "name": "stdout",
     "output_type": "stream",
     "text": [
      "MAE: 0.4634\n",
      "R2: 0.6147\n",
      "Explained variance: 0.6147\n"
     ]
    }
   ],
   "source": [
    "mae = mean_absolute_error(y_test, predict)\n",
    "r2 = r2_score(y_test, predict)\n",
    "explained_variance = explained_variance_score(y_test, predict)\n",
    "print(\"MAE: %.4f\" % mae)\n",
    "print(\"R2: %.4f\" % r2)\n",
    "print(\"Explained variance: %.4f\" % explained_variance)"
   ]
  },
  {
   "cell_type": "code",
   "execution_count": 41,
   "metadata": {},
   "outputs": [
    {
     "data": {
      "text/plain": [
       "array([ 0.27048548, -0.17273102, -0.38032564, ...,  1.18192052,\n",
       "       -0.07031374, -0.56868553])"
      ]
     },
     "execution_count": 41,
     "metadata": {},
     "output_type": "execute_result"
    }
   ],
   "source": []
  },
  {
   "cell_type": "code",
   "execution_count": 43,
   "metadata": {},
   "outputs": [],
   "source": [
    "real_predicted_prices = quantile_transformer.inverse_transform(predict.reshape(-1,1))"
   ]
  },
  {
   "cell_type": "code",
   "execution_count": 44,
   "metadata": {},
   "outputs": [],
   "source": [
    "real_y_test = quantile_transformer.inverse_transform(y_test.reshape(-1,1))"
   ]
  },
  {
   "cell_type": "code",
   "execution_count": 45,
   "metadata": {},
   "outputs": [
    {
     "name": "stdout",
     "output_type": "stream",
     "text": [
      "MAE: 13.7893\n",
      "R2: 0.4155\n",
      "Explained variance: 0.4510\n"
     ]
    }
   ],
   "source": [
    "mae = mean_absolute_error(real_y_test, real_predicted_prices)\n",
    "r2 = r2_score(real_y_test, real_predicted_prices)\n",
    "explained_variance = explained_variance_score(real_y_test, real_predicted_prices)\n",
    "print(\"MAE: %.4f\" % mae)\n",
    "print(\"R2: %.4f\" % r2)\n",
    "print(\"Explained variance: %.4f\" % explained_variance)"
   ]
  },
  {
   "cell_type": "markdown",
   "metadata": {},
   "source": [
    "Load views per week"
   ]
  },
  {
   "cell_type": "code",
   "execution_count": 46,
   "metadata": {},
   "outputs": [],
   "source": [
    "views = joblib.load('../views_250.pkl')"
   ]
  },
  {
   "cell_type": "code",
   "execution_count": 52,
   "metadata": {},
   "outputs": [],
   "source": [
    "quantile_transformer = QuantileTransformer(output_distribution='normal').fit(views.reshape(-1,1))\n",
    "quantile_views = quantile_transformer.transform(views.reshape(-1,1))"
   ]
  },
  {
   "cell_type": "code",
   "execution_count": 53,
   "metadata": {},
   "outputs": [
    {
     "data": {
      "image/png": "[encoded data removed]",
      "text/plain": [
       "<Figure size 720x720 with 4 Axes>"
      ]
     },
     "metadata": {},
     "output_type": "display_data"
    }
   ],
   "source": [
    "fig, ((ax0, ax1),(ax2, ax3)) = plt.subplots(nrows=2, ncols=2, figsize=(10,10))\n",
    "ax0.plot(sorted(views))\n",
    "ax0.set_title('views')\n",
    "ax2.hist(views)\n",
    "\n",
    "ax1.plot(sorted(quantile_views))\n",
    "ax1.set_title('quantile transform')\n",
    "ax3.hist(quantile_views)\n",
    "\n",
    "plt.show()"
   ]
  },
  {
   "cell_type": "code",
   "execution_count": 57,
   "metadata": {},
   "outputs": [],
   "source": [
    "quantile_views = quantile_views.reshape(1, -1)"
   ]
  },
  {
   "cell_type": "code",
   "execution_count": 58,
   "metadata": {},
   "outputs": [],
   "source": [
    "quantile_views = quantile_views[0]"
   ]
  },
  {
   "cell_type": "code",
   "execution_count": 63,
   "metadata": {},
   "outputs": [
    {
     "name": "stdout",
     "output_type": "stream",
     "text": [
      "      Iter       Train Loss      OOB Improve   Remaining Time \n",
      "         1           1.7711           0.0299          456.25m\n",
      "         2           1.7489           0.0243          452.18m\n",
      "         3           1.7270           0.0218          455.91m\n",
      "         4           1.7089           0.0184          454.94m\n",
      "         5           1.6891           0.0160          454.43m\n",
      "         6           1.6754           0.0132          454.36m\n",
      "         7           1.6611           0.0142          455.55m\n",
      "         8           1.6506           0.0109          449.25m\n",
      "         9           1.6427           0.0107          444.79m\n",
      "        10           1.6258           0.0101          437.52m\n",
      "        20           1.5495           0.0049          390.23m\n",
      "        30           1.4938           0.0031          360.50m\n",
      "        40           1.4577           0.0028          335.05m\n",
      "        50           1.4226           0.0018          312.89m\n",
      "        60           1.4088           0.0014          291.49m\n",
      "        70           1.3865           0.0010          274.20m\n",
      "        80           1.3675           0.0011          257.35m\n",
      "        90           1.3557           0.0007          242.30m\n",
      "       100           1.3384           0.0010          227.87m\n",
      "       200           1.2446           0.0003          104.76m\n",
      "       300           1.1864           0.0002            0.00s\n"
     ]
    },
    {
     "data": {
      "text/plain": [
       "['views_estimator.pkl']"
      ]
     },
     "execution_count": 63,
     "metadata": {},
     "output_type": "execute_result"
    }
   ],
   "source": [
    "X_train, X_test, y_train, y_test = model_selection.train_test_split(features, quantile_views, test_size = 0.2, random_state = 0, shuffle=True)\n",
    "estimator = ensemble.GradientBoostingRegressor(n_estimators=300, max_depth=15, subsample=0.5, random_state=0, verbose=1)\n",
    "estimator.fit(X_train, y_train)\n",
    "joblib.dump(estimator, \"views_estimator.pkl\")"
   ]
  },
  {
   "cell_type": "code",
   "execution_count": 64,
   "metadata": {},
   "outputs": [],
   "source": [
    "predict = estimator.predict(X_test)"
   ]
  },
  {
   "cell_type": "code",
   "execution_count": 75,
   "metadata": {},
   "outputs": [
    {
     "name": "stdout",
     "output_type": "stream",
     "text": [
      "MAE: 0.7624\n",
      "R2: 0.2807\n",
      "Explained variance: 0.2807\n"
     ]
    }
   ],
   "source": [
    "mae = mean_absolute_error(y_test, predict)\n",
    "r2 = r2_score(y_test, predict)\n",
    "explained_variance = explained_variance_score(y_test, predict)\n",
    "print(\"MAE: %.4f\" % mae)\n",
    "print(\"R2: %.4f\" % r2)\n",
    "print(\"Explained variance: %.4f\" % explained_variance)"
   ]
  },
  {
   "cell_type": "code",
   "execution_count": 72,
   "metadata": {},
   "outputs": [],
   "source": [
    "real_predicted_views = quantile_transformer.inverse_transform(predict.reshape(-1,1))"
   ]
  },
  {
   "cell_type": "code",
   "execution_count": 73,
   "metadata": {},
   "outputs": [],
   "source": [
    "real_y_test = quantile_transformer.inverse_transform(y_test.reshape(-1,1))"
   ]
  },
  {
   "cell_type": "code",
   "execution_count": 74,
   "metadata": {},
   "outputs": [
    {
     "name": "stdout",
     "output_type": "stream",
     "text": [
      "MAE: 4.6304\n",
      "R2: 0.0062\n",
      "Explained variance: 0.0331\n"
     ]
    }
   ],
   "source": [
    "mae = mean_absolute_error(real_y_test, real_predicted_views)\n",
    "r2 = r2_score(real_y_test, real_predicted_views)\n",
    "explained_variance = explained_variance_score(real_y_test, real_predicted_views)\n",
    "print(\"MAE: %.4f\" % mae)\n",
    "print(\"R2: %.4f\" % r2)\n",
    "print(\"Explained variance: %.4f\" % explained_variance)"
   ]
  },
  {
   "cell_type": "code",
   "execution_count": 69,
   "metadata": {},
   "outputs": [],
   "source": [
    "real_predicted_views = real_predicted_views.reshape(1,-1)[0]"
   ]
  },
  {
   "cell_type": "code",
   "execution_count": 70,
   "metadata": {},
   "outputs": [],
   "source": [
    "real_y_test = real_y_test.reshape(1,-1)[0]"
   ]
  },
  {
   "cell_type": "code",
   "execution_count": 71,
   "metadata": {},
   "outputs": [
    {
     "name": "stdout",
     "output_type": "stream",
     "text": [
      "MAE: 4.6304\n",
      "R2: 0.0062\n",
      "Explained variance: 0.0331\n"
     ]
    }
   ],
   "source": [
    "mae = mean_absolute_error(real_y_test, real_predicted_views)\n",
    "r2 = r2_score(real_y_test, real_predicted_views)\n",
    "explained_variance = explained_variance_score(real_y_test, real_predicted_views)\n",
    "print(\"MAE: %.4f\" % mae)\n",
    "print(\"R2: %.4f\" % r2)\n",
    "print(\"Explained variance: %.4f\" % explained_variance)"
   ]
  },
  {
   "cell_type": "code",
   "execution_count": null,
   "metadata": {},
   "outputs": [],
   "source": []
  },
  {
   "cell_type": "code",
   "execution_count": 76,
   "metadata": {},
   "outputs": [
    {
     "data": {
      "text/plain": [
       "['views_estimator_test_train_split']"
      ]
     },
     "execution_count": 76,
     "metadata": {},
     "output_type": "execute_result"
    }
   ],
   "source": [
    "joblib.dump([X_train, X_test, y_train, y_test], \"views_estimator_test_train_split\")"
   ]
  },
  {
   "cell_type": "code",
   "execution_count": 77,
   "metadata": {},
   "outputs": [
    {
     "data": {
      "text/plain": [
       "['views_quantile_transformer']"
      ]
     },
     "execution_count": 77,
     "metadata": {},
     "output_type": "execute_result"
    }
   ],
   "source": [
    "joblib.dump(quantile_transformer, \"views_quantile_transformer\")"
   ]
  },
  {
   "cell_type": "code",
   "execution_count": null,
   "metadata": {},
   "outputs": [],
   "source": []
  }
 ],
 "metadata": {
  "kernelspec": {
   "display_name": "Python 3",
   "language": "python",
   "name": "python3"
  },
  "language_info": {
   "codemirror_mode": {
    "name": "ipython",
    "version": 3
   },
   "file_extension": ".py",
   "mimetype": "text/x-python",
   "name": "python",
   "nbconvert_exporter": "python",
   "pygments_lexer": "ipython3",
   "version": "3.6.6"
  }
 },
 "nbformat": 4,
 "nbformat_minor": 2
}
