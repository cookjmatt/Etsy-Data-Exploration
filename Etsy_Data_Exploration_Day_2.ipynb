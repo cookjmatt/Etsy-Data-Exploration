{
 "cells": [
  {
   "cell_type": "markdown",
   "metadata": {},
   "source": [
    "9/13/18 Data exploration Part 2 for Etsy dataset from http://vision.is.tohoku.ac.jp/~kyamagu/research/etsy-dataset/"
   ]
  },
  {
   "cell_type": "code",
   "execution_count": null,
   "metadata": {},
   "outputs": [],
   "source": []
  },
  {
   "cell_type": "code",
   "execution_count": 1,
   "metadata": {},
   "outputs": [],
   "source": [
    "import numpy as np\n",
    "import matplotlib.pyplot as plt\n",
    "%matplotlib inline\n",
    "import json\n",
    "from glob import glob"
   ]
  },
  {
   "cell_type": "code",
   "execution_count": 2,
   "metadata": {},
   "outputs": [
    {
     "name": "stdout",
     "output_type": "stream",
     "text": [
      "/home/mc/Documents/Insight/Etsy/180912_1st_Exploratory_Data_Analysis\n"
     ]
    }
   ],
   "source": [
    "cd ~/Documents/Insight/Etsy/180912_1st_Exploratory_Data_Analysis/"
   ]
  },
  {
   "cell_type": "code",
   "execution_count": 3,
   "metadata": {},
   "outputs": [],
   "source": [
    "with open('categories.json', 'r') as categories_file:\n",
    "    categories = json.load(categories_file)\n",
    "\n",
    "#For Testing a single file\n",
    "#with open('listings/0000.json', 'r') as listings_file:\n",
    "#    listings = json.load(listings_file)\n",
    "\n",
    "### This will open all JSON files\n",
    "#for json_file in sorted(glob('listings/*.json')):\n",
    "#    with open(json_file, 'r') as listings_file:\n",
    "#        listings = json.load(listings_file)\n",
    "#        print(json_file)"
   ]
  },
  {
   "cell_type": "code",
   "execution_count": 18,
   "metadata": {},
   "outputs": [
    {
     "name": "stdout",
     "output_type": "stream",
     "text": [
      "Art 68887312\n",
      "Bath and Beauty 68887336\n",
      "Plants and Edibles 68887346\n",
      "Holidays 68887366\n",
      "Woodworking 68887388\n",
      "Knitting 68887400\n",
      "Needlecraft 68887406\n",
      "Everything Else 68887416\n",
      "Furniture 68887430\n",
      "Pets 68887434\n",
      "Music 68887460\n",
      "Jewelry 68887482\n",
      "Patterns 68887486\n",
      "Weddings 68887494\n",
      "Quilts 68887502\n",
      "Crochet 69150341\n",
      "Clothing 69150353\n",
      "Geekery 69150359\n",
      "Glass 69150361\n",
      "Paper Goods 69150367\n",
      "Candles 69150375\n",
      "Books and Zines 69150385\n",
      "Toys 69150393\n",
      "Children 69150405\n",
      "Dolls and Miniatures 69150415\n",
      "Housewares 69150425\n",
      "Supplies 69150433\n",
      "Vintage 69150437\n",
      "Ceramics and Pottery 69150451\n",
      "Bags and Purses 69150455\n",
      "Accessories 69150467\n"
     ]
    }
   ],
   "source": [
    "top_level_category_ids = []\n",
    "top_level_category_names = []\n",
    "for i in categories:\n",
    "    if i['parent'] == None:\n",
    "        print(i['long_name'], i['category_id'])\n",
    "        top_level_categories.append(i['category_id'])\n",
    "        top_level_category_names.append(i['long_name'])"
   ]
  },
  {
   "cell_type": "code",
   "execution_count": 17,
   "metadata": {},
   "outputs": [
    {
     "name": "stdout",
     "output_type": "stream",
     "text": [
      "[68887312, 68887336, 68887346, 68887366, 68887388, 68887400, 68887406, 68887416, 68887430, 68887434, 68887460, 68887482, 68887486, 68887494, 68887502, 69150341, 69150353, 69150359, 69150361, 69150367, 69150375, 69150385, 69150393, 69150405, 69150415, 69150425, 69150433, 69150437, 69150451, 69150455, 69150467]\n"
     ]
    }
   ],
   "source": [
    "print(top_level_categories)"
   ]
  },
  {
   "cell_type": "code",
   "execution_count": 19,
   "metadata": {},
   "outputs": [
    {
     "name": "stdout",
     "output_type": "stream",
     "text": [
      "['Art', 'Bath and Beauty', 'Plants and Edibles', 'Holidays', 'Woodworking', 'Knitting', 'Needlecraft', 'Everything Else', 'Furniture', 'Pets', 'Music', 'Jewelry', 'Patterns', 'Weddings', 'Quilts', 'Crochet', 'Clothing', 'Geekery', 'Glass', 'Paper Goods', 'Candles', 'Books and Zines', 'Toys', 'Children', 'Dolls and Miniatures', 'Housewares', 'Supplies', 'Vintage', 'Ceramics and Pottery', 'Bags and Purses', 'Accessories']\n"
     ]
    }
   ],
   "source": [
    "print(top_level_category_names)"
   ]
  },
  {
   "cell_type": "markdown",
   "metadata": {},
   "source": [
    "Make dictionaries that, given a category ID, will give the category short and long names, and vice versa"
   ]
  },
  {
   "cell_type": "code",
   "execution_count": 4,
   "metadata": {},
   "outputs": [],
   "source": [
    "category_ids = [categories[i].get('category_id') for i in range(len(categories))]\n",
    "category_long_names = [categories[i].get('long_name') for i in range(len(categories))]\n",
    "category_short_names = [categories[i].get('short_name') for i in range(len(categories))]\n",
    "\n",
    "id_to_long = dict(zip(category_ids, category_long_names))\n",
    "id_to_short = dict(zip(category_ids, category_short_names))\n",
    "long_to_id = dict(zip(category_long_names, category_ids))\n",
    "short_to_id = dict(zip(category_short_names, category_ids))"
   ]
  },
  {
   "cell_type": "markdown",
   "metadata": {},
   "source": [
    "Get product counts for each category ID, long, short category names, and tags"
   ]
  },
  {
   "cell_type": "code",
   "execution_count": 6,
   "metadata": {},
   "outputs": [],
   "source": [
    "tag_dict = {}\n",
    "category_id_count = dict(zip(category_ids, [0 for i in range(len(category_ids))]))\n",
    "category_long_count = dict(zip(category_long_names, [0 for i in range(len(category_long_names))]))\n",
    "category_short_count = dict(zip(category_short_names, [0 for i in range(len(category_short_names))]))"
   ]
  },
  {
   "cell_type": "code",
   "execution_count": null,
   "metadata": {},
   "outputs": [],
   "source": [
    "for index, listing in enumerate(listings):\n",
    "    category_id = listing.get('category_id')\n",
    "    tags = listing.get('tags')\n",
    "    try:\n",
    "        category_id_count[category_id] += 1\n",
    "        category_long_count[id_to_long[category_id]] += 1\n",
    "        category_short_count[id_to_short[category_id]] += 1\n",
    "        try:\n",
    "            for index_2, tag in enumerate(tags):\n",
    "                if tag.lower() in tag_dict:\n",
    "                    tag_dict[tag.lower()] += 1\n",
    "                else:\n",
    "                    tag_dict[tag.lower()] = 1\n",
    "        except:\n",
    "            None\n",
    "    except:\n",
    "        None"
   ]
  },
  {
   "cell_type": "markdown",
   "metadata": {},
   "source": [
    "Generate plots showing distributions of product listings per category"
   ]
  },
  {
   "cell_type": "code",
   "execution_count": 7,
   "metadata": {},
   "outputs": [
    {
     "data": {
      "image/png": "[encoded data removed]",
      "text/plain": [
       "<Figure size 432x288 with 1 Axes>"
      ]
     },
     "metadata": {},
     "output_type": "display_data"
    }
   ],
   "source": [
    "lists = sorted(category_short_count.items(), key=lambda z: z[1], reverse=False)\n",
    "x, y = zip(*lists)\n",
    "\n",
    "fig, ax = plt.subplots(1)\n",
    "ax.barh(x[-20:],y[-20:])\n",
    "ax.set_title('# Products per Category (short name)')\n",
    "ax.set_xlabel('# Product Listings')\n",
    "ax.set_ylabel('Category')\n",
    "plt.show()"
   ]
  },
  {
   "cell_type": "markdown",
   "metadata": {},
   "source": [
    "Generate plots showing distributions of product listings per category"
   ]
  },
  {
   "cell_type": "code",
   "execution_count": null,
   "metadata": {},
   "outputs": [],
   "source": [
    "lists = sorted(category_long_count.items(), key=lambda z: z[1], reverse=False)\n",
    "x, y = zip(*lists)\n",
    "\n",
    "fig, ax = plt.subplots(1)\n",
    "ax.barh(x[-20:],y[-20:])\n",
    "ax.set_title('# Products per Category (long name)')\n",
    "ax.set_xlabel('# Product Listings')\n",
    "ax.set_ylabel('Category')\n",
    "plt.show()"
   ]
  },
  {
   "cell_type": "markdown",
   "metadata": {},
   "source": [
    "Generate plots showing distributions of product listings per category ID"
   ]
  },
  {
   "cell_type": "code",
   "execution_count": null,
   "metadata": {},
   "outputs": [],
   "source": [
    "lists = sorted(category_id_count.items(), key=lambda z: z[1], reverse=False)\n",
    "x, y = zip(*lists)\n",
    "fig, ax = plt.subplots(1)\n",
    "ax.barh(list(map(str,x[-20:])),y[-20:])\n",
    "ax.set_title('# Products per Category (ID)')\n",
    "ax.set_xlabel('# Product Listings')\n",
    "ax.set_ylabel('Category')\n",
    "plt.show()"
   ]
  },
  {
   "cell_type": "code",
   "execution_count": null,
   "metadata": {},
   "outputs": [],
   "source": []
  },
  {
   "cell_type": "code",
   "execution_count": null,
   "metadata": {},
   "outputs": [],
   "source": []
  }
 ],
 "metadata": {
  "kernelspec": {
   "display_name": "Python 3",
   "language": "python",
   "name": "python3"
  },
  "language_info": {
   "codemirror_mode": {
    "name": "ipython",
    "version": 3
   },
   "file_extension": ".py",
   "mimetype": "text/x-python",
   "name": "python",
   "nbconvert_exporter": "python",
   "pygments_lexer": "ipython3",
   "version": "3.6.5"
  }
 },
 "nbformat": 4,
 "nbformat_minor": 2
}
