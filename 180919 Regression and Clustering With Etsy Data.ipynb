{
 "cells": [
  {
   "cell_type": "markdown",
   "metadata": {},
   "source": [
    "change views and favorers to per unit time values"
   ]
  },
  {
   "cell_type": "code",
   "execution_count": null,
   "metadata": {},
   "outputs": [],
   "source": [
    "from datetime import datetime\n",
    "start = listings['original_creation_tsz'].tolist()\n",
    "end = listings['ending_tsz'].tolist()\n",
    "d_start = [datetime.strptime(datetime.utcfromtimestamp(x).strftime('%Y-%m-%d %H:%M:%S'), \"%Y-%m-%d %H:%M:%S\") for i, x in enumerate(start)]\n",
    "d_end = [datetime.strptime(datetime.utcfromtimestamp(x).strftime('%Y-%m-%d %H:%M:%S'), \"%Y-%m-%d %H:%M:%S\") for i, x in enumerate(end)]\n",
    "difference = [(d_end[i] - d_start[i]).days for i in range(len(d_start))]\n",
    "listings = listings.assign(days=pd.Series(difference))\n",
    "views = listings['views'].tolist()\n",
    "num_favorers = listings['num_favorers'].tolist()\n",
    "days = listings['days'].tolist()\n",
    "views_days = [views[i] / days[i] for i in range(len(views))]\n",
    "num_favorers_days = [num_favorers[i] / days[i] for i in range(len(num_favorers))]\n",
    "listings = listings.assign(views=pd.Series(views_days))\n",
    "listings = listings.assign(num_favorers=pd.Series(num_favorers_days))\n",
    "listings.to_pickle(\"./listings.pkl\")"
   ]
  },
  {
   "cell_type": "markdown",
   "metadata": {},
   "source": [
    "start here"
   ]
  },
  {
   "cell_type": "code",
   "execution_count": 1,
   "metadata": {},
   "outputs": [
    {
     "name": "stdout",
     "output_type": "stream",
     "text": [
      "[nltk_data] Downloading package punkt to /home/mc/nltk_data...\n",
      "[nltk_data]   Package punkt is already up-to-date!\n",
      "[nltk_data] Downloading package wordnet to /home/mc/nltk_data...\n",
      "[nltk_data]   Package wordnet is already up-to-date!\n"
     ]
    }
   ],
   "source": [
    "import sys\n",
    "from tqdm import tqdm\n",
    "from time import time\n",
    "import numpy as np\n",
    "import pandas as pd\n",
    "import pickle\n",
    "import matplotlib.pyplot as plt\n",
    "import seaborn as sns\n",
    "from sklearn.feature_extraction.text import CountVectorizer\n",
    "from sklearn.feature_extraction.text import TfidfVectorizer\n",
    "from sklearn.metrics import mean_absolute_error\n",
    "from sklearn.metrics import explained_variance_score\n",
    "from sklearn.metrics import r2_score\n",
    "from sklearn.model_selection import train_test_split\n",
    "from sklearn import linear_model\n",
    "import nltk\n",
    "from nltk import word_tokenize  \n",
    "from nltk.stem import WordNetLemmatizer \n",
    "from sklearn.decomposition import NMF, LatentDirichletAllocation\n",
    "from sklearn.externals import joblib\n",
    "nltk.download('punkt')\n",
    "nltk.download('wordnet')\n",
    "\n",
    "%matplotlib inline\n",
    "pd.set_option('display.max_columns', 50)"
   ]
  },
  {
   "cell_type": "markdown",
   "metadata": {},
   "source": [
    "Open listings and all_features pickle structures"
   ]
  },
  {
   "cell_type": "code",
   "execution_count": 2,
   "metadata": {},
   "outputs": [],
   "source": [
    "with open('listings.pkl', 'rb') as handle:\n",
    "    listings = pickle.load(handle)\n",
    "\n",
    "with open('all_features.pickle', 'rb') as handle:\n",
    "    all_features = pickle.load(handle)"
   ]
  },
  {
   "cell_type": "markdown",
   "metadata": {},
   "source": [
    "Vectorizer features"
   ]
  },
  {
   "cell_type": "code",
   "execution_count": null,
   "metadata": {},
   "outputs": [],
   "source": [
    "class LemmaTokenizer(object):\n",
    "    def __init__(self):\n",
    "        self.wnl = WordNetLemmatizer()\n",
    "    def __call__(self, doc):\n",
    "        return [self.wnl.lemmatize(t) for t in word_tokenize(doc)]\n",
    "\n",
    "vectorizer = CountVectorizer(min_df=0.001, analyzer='word', tokenizer=LemmaTokenizer(), binary=True)\n",
    "X = vectorizer.fit_transform(all_features)\n",
    "X_names = vectorizer.get_feature_names()\n",
    "print(len(X_names))"
   ]
  },
  {
   "cell_type": "code",
   "execution_count": null,
   "metadata": {},
   "outputs": [],
   "source": []
  },
  {
   "cell_type": "code",
   "execution_count": null,
   "metadata": {},
   "outputs": [],
   "source": [
    "vectorizer = CountVectorizer(analyzer='word', min_df=0.001, tokenizer=nltk.word_tokenize, binary=True)\n",
    "X = vectorizer.fit_transform(all_features)\n",
    "X_names = vectorizer.get_feature_names()\n",
    "print(len(X_names))"
   ]
  },
  {
   "cell_type": "code",
   "execution_count": null,
   "metadata": {},
   "outputs": [],
   "source": []
  },
  {
   "cell_type": "code",
   "execution_count": null,
   "metadata": {},
   "outputs": [],
   "source": [
    "vectorizer = TfidfVectorizer()\n",
    "X = vectorizer.fit_transform(all_features)\n",
    "X_names = vectorizer.get_feature_names()\n",
    "print(len(X_names))"
   ]
  },
  {
   "cell_type": "code",
   "execution_count": null,
   "metadata": {},
   "outputs": [],
   "source": []
  },
  {
   "cell_type": "code",
   "execution_count": null,
   "metadata": {},
   "outputs": [],
   "source": [
    "vectorizer = TfidfVectorizer(tokenizer=nltk.word_tokenize)\n",
    "X = vectorizer.fit_transform(all_features)\n",
    "X_names = vectorizer.get_feature_names()\n",
    "print(len(X_names))"
   ]
  },
  {
   "cell_type": "code",
   "execution_count": null,
   "metadata": {},
   "outputs": [],
   "source": [
    "X_names"
   ]
  },
  {
   "cell_type": "markdown",
   "metadata": {},
   "source": [
    "Split data into train and test sets"
   ]
  },
  {
   "cell_type": "code",
   "execution_count": null,
   "metadata": {},
   "outputs": [],
   "source": [
    "prices = np.nan_to_num(listings['price'].tolist())\n",
    "views = np.nan_to_num(listings['views'].tolist())\n",
    "favorers = np.nan_to_num(listings['num_favorers'].tolist())\n",
    "test_size = 0.1\n",
    "\n",
    "X_price_train, X_price_test, y_price_train, y_price_test = train_test_split(X, prices, test_size=test_size)\n",
    "X_views_train, X_views_test, y_views_train, y_views_test = train_test_split(X, views, test_size=test_size)\n",
    "X_favorers_train, X_favorers_test, y_favorers_train, y_favorers_test = train_test_split(X, favorers, test_size=test_size)"
   ]
  },
  {
   "cell_type": "markdown",
   "metadata": {},
   "source": [
    "Make some linear regression models"
   ]
  },
  {
   "cell_type": "code",
   "execution_count": null,
   "metadata": {},
   "outputs": [],
   "source": [
    "clf_price_lasso = linear_model.Lasso(alpha=0.1)\n",
    "y_price_pred = clf_price_lasso.fit(X_price_train, y_price_train).predict(X_price_test)\n",
    "print(\"\\nprice prediction\")\n",
    "print(\"explained variance score:\",explained_variance_score(y_price_test, y_price_pred))\n",
    "print(\"mean absolute error:\",mean_absolute_error(y_price_test, y_price_pred))\n",
    "print(\"r2 score:\",r2_score(y_price_test, y_price_pred))"
   ]
  },
  {
   "cell_type": "code",
   "execution_count": null,
   "metadata": {},
   "outputs": [],
   "source": [
    "clf_views_lasso = linear_model.Lasso(alpha=0.1)\n",
    "y_views_pred = clf_views_lasso.fit(X_views_train, y_views_train).predict(X_views_test)\n",
    "print(\"\\nviews prediction\")\n",
    "print(\"explained variance score:\",explained_variance_score(y_views_test, y_views_pred))\n",
    "print(\"mean absolute error:\",mean_absolute_error(y_views_test, y_views_pred))\n",
    "print(\"r2 score:\",r2_score(y_views_test, y_views_pred))"
   ]
  },
  {
   "cell_type": "code",
   "execution_count": null,
   "metadata": {},
   "outputs": [],
   "source": [
    "clf_favorers_lasso = linear_model.Lasso(alpha=0.1)\n",
    "y_favorers_pred = clf_favorers_lasso.fit(X_favorers_train, y_favorers_train).predict(X_favorers_test)\n",
    "print(\"\\nfavorers prediction\")\n",
    "print(\"explained variance score:\",explained_variance_score(y_favorers_test, y_favorers_pred))\n",
    "print(\"mean absolute error:\",mean_absolute_error(y_favorers_test, y_favorers_pred))\n",
    "print(\"r2 score:\",r2_score(y_favorers_test, y_favorers_pred))"
   ]
  },
  {
   "cell_type": "markdown",
   "metadata": {},
   "source": [
    "Do clustering"
   ]
  },
  {
   "cell_type": "code",
   "execution_count": 4,
   "metadata": {},
   "outputs": [],
   "source": [
    "n_features = 1000 # Number of features\n",
    "n_samples = 36570 # Number of samples\n",
    "n_components = 100 # Number of components\n",
    "n_top_words = 10  # Number of top words\n",
    "\n",
    "def print_top_words(model, feature_names, n_top_words):\n",
    "    for topic_idx, topic in enumerate(model.components_):\n",
    "        message = \"Topic #%d: \" % topic_idx\n",
    "        message += \" \".join([feature_names[i]\n",
    "                             for i in topic.argsort()[:-n_top_words - 1:-1]])\n",
    "        print(message)\n",
    "    print()"
   ]
  },
  {
   "cell_type": "code",
   "execution_count": 5,
   "metadata": {},
   "outputs": [
    {
     "name": "stdout",
     "output_type": "stream",
     "text": [
      "Extracting tf-idf features for NMF...\n",
      "done in 0.655s.\n"
     ]
    }
   ],
   "source": [
    "# Use tf-idf features for NMF.\n",
    "print(\"Extracting tf-idf features for NMF...\")\n",
    "tfidf_vectorizer = TfidfVectorizer(max_df=0.95, min_df=2,\n",
    "                                   max_features=n_features,\n",
    "                                   stop_words='english')\n",
    "t0 = time()\n",
    "tfidf = tfidf_vectorizer.fit_transform(all_features)\n",
    "print(\"done in %0.3fs.\" % (time() - t0))"
   ]
  },
  {
   "cell_type": "code",
   "execution_count": 6,
   "metadata": {},
   "outputs": [
    {
     "name": "stdout",
     "output_type": "stream",
     "text": [
      "Extracting tf features for LDA...\n",
      "done in 0.595s.\n"
     ]
    }
   ],
   "source": [
    "# Use tf (raw term count) features for LDA.\n",
    "print(\"Extracting tf features for LDA...\")\n",
    "tf_vectorizer = CountVectorizer(max_df=0.95, min_df=2,\n",
    "                                max_features=n_features,\n",
    "                                stop_words='english')\n",
    "t0 = time()\n",
    "tf = tf_vectorizer.fit_transform(all_features)\n",
    "print(\"done in %0.3fs.\" % (time() - t0))"
   ]
  },
  {
   "cell_type": "code",
   "execution_count": null,
   "metadata": {},
   "outputs": [],
   "source": [
    "joblib.dump(tfidf, 'tfidf_features.pkl')\n",
    "joblib.dump(tfidf_vectorizer, 'tfidf_vectorizer.pkl')\n",
    "joblib.dump(tf, 'tf_features.pkl')\n",
    "joblib.dump(tf_vectorizer, 'tf_vectorizer.pkl')"
   ]
  },
  {
   "cell_type": "code",
   "execution_count": null,
   "metadata": {},
   "outputs": [],
   "source": [
    "# Fit the NMF model\n",
    "print(\"Fitting the NMF model (Frobenius norm) with tf-idf features, \"\n",
    "      \"n_samples=%d and n_features=%d...\"\n",
    "      % (n_samples, n_features))\n",
    "t0 = time()\n",
    "nmf = NMF(n_components=n_components, random_state=1,\n",
    "          alpha=.1, l1_ratio=.5).fit(tfidf)\n",
    "print(\"done in %0.3fs.\" % (time() - t0))"
   ]
  },
  {
   "cell_type": "code",
   "execution_count": null,
   "metadata": {},
   "outputs": [],
   "source": [
    "joblib.dump(nmf, 'tfidf_nmf.pkl')"
   ]
  },
  {
   "cell_type": "code",
   "execution_count": null,
   "metadata": {},
   "outputs": [],
   "source": [
    "print(\"\\nTopics in NMF model (Frobenius norm):\")\n",
    "tfidf_feature_names = tfidf_vectorizer.get_feature_names()\n",
    "print_top_words(nmf, tfidf_feature_names, n_top_words)"
   ]
  },
  {
   "cell_type": "code",
   "execution_count": null,
   "metadata": {},
   "outputs": [],
   "source": [
    "print(\"Fitting LDA models with tf features, \"\n",
    "      \"n_samples=%d and n_features=%d...\"\n",
    "      % (n_samples, n_features))\n",
    "lda = LatentDirichletAllocation(n_components=n_components, max_iter=5,\n",
    "                                learning_method='online',\n",
    "                                learning_offset=50.,\n",
    "                                random_state=0)\n",
    "t0 = time()\n",
    "lda.fit(tf)\n",
    "print(\"done in %0.3fs.\" % (time() - t0))"
   ]
  },
  {
   "cell_type": "code",
   "execution_count": null,
   "metadata": {},
   "outputs": [],
   "source": [
    "joblib.dump(lda, 'tf_lda.pkl')"
   ]
  },
  {
   "cell_type": "code",
   "execution_count": null,
   "metadata": {},
   "outputs": [],
   "source": [
    "print(\"\\nTopics in LDA model:\")\n",
    "tf_feature_names = tf_vectorizer.get_feature_names()\n",
    "print_top_words(lda, tf_feature_names, n_top_words)"
   ]
  },
  {
   "cell_type": "markdown",
   "metadata": {},
   "source": [
    "try out gradient boosting regression"
   ]
  },
  {
   "cell_type": "code",
   "execution_count": 43,
   "metadata": {},
   "outputs": [],
   "source": [
    "from sklearn.metrics import explained_variance_score"
   ]
  },
  {
   "cell_type": "code",
   "execution_count": 7,
   "metadata": {},
   "outputs": [],
   "source": [
    "from sklearn.ensemble import GradientBoostingRegressor\n",
    "from sklearn.metrics import mean_squared_error\n",
    "from sklearn.model_selection import train_test_split\n",
    "\n",
    "prices = np.nan_to_num(listings['price'].tolist())\n",
    "views = np.nan_to_num(listings['views'].tolist())\n",
    "favorers = np.nan_to_num(listings['num_favorers'].tolist())\n",
    "test_size = 0.1\n",
    "\n",
    "tfidf_train, tfidf_test, y_train, y_test = train_test_split(\n",
    "    tfidf, prices, test_size = test_size)"
   ]
  },
  {
   "cell_type": "code",
   "execution_count": null,
   "metadata": {},
   "outputs": [],
   "source": [
    "# Fit regression model\n",
    "params = {'n_estimators': 1000, 'max_depth': 8, 'min_samples_split': 2,\n",
    "          'learning_rate': 0.01, 'loss': 'ls'}\n",
    "clf = GradientBoostingRegressor(**params)\n",
    "\n",
    "clf.fit(tfidf_train, y_train)\n",
    "mae = mean_absolute_error(y_test, clf.predict(tfidf_test))\n",
    "print(\"MAE: %.4f\" % mae)"
   ]
  },
  {
   "cell_type": "code",
   "execution_count": 42,
   "metadata": {},
   "outputs": [
    {
     "data": {
      "text/plain": [
       "0.6114017011620319"
      ]
     },
     "execution_count": 42,
     "metadata": {},
     "output_type": "execute_result"
    }
   ],
   "source": [
    "explained_variance_score(y_test, )"
   ]
  },
  {
   "cell_type": "code",
   "execution_count": null,
   "metadata": {},
   "outputs": [],
   "source": [
    "# Fit regression model another version\n",
    "params = {'n_estimators': 2000, 'max_depth': 10, 'min_samples_split': 2,\n",
    "          'learning_rate': 0.01, 'loss': 'ls'}\n",
    "clf_price = GradientBoostingRegressor(**params)\n",
    "\n",
    "clf_price.fit(tfidf_train, y_train)\n",
    "mae = mean_absolute_error(y_test, clf_price.predict(tfidf_test))\n",
    "print(\"MAE: %.4f\" % mae)"
   ]
  },
  {
   "cell_type": "code",
   "execution_count": null,
   "metadata": {},
   "outputs": [],
   "source": [
    "r2 = r2_score(y_test, clf_price.predict(tfidf_test))\n",
    "print(\"R2: %.4f\" % r2)"
   ]
  },
  {
   "cell_type": "markdown",
   "metadata": {},
   "source": [
    "Save price regressor model to pickle"
   ]
  },
  {
   "cell_type": "code",
   "execution_count": null,
   "metadata": {},
   "outputs": [],
   "source": [
    "\n",
    "joblib.dump(clf_price, 'tfidf_price_GradientBoostingRegressor.pkl')"
   ]
  },
  {
   "cell_type": "code",
   "execution_count": null,
   "metadata": {},
   "outputs": [],
   "source": [
    "test_clf = joblib.load('tfidf_price_GradientBoostingRegressor.pkl') "
   ]
  },
  {
   "cell_type": "code",
   "execution_count": null,
   "metadata": {},
   "outputs": [],
   "source": [
    "mae = mean_absolute_error(y_test, test_clf.predict(tfidf_test))\n",
    "print(\"MAE: %.4f\" % mae)"
   ]
  },
  {
   "cell_type": "markdown",
   "metadata": {},
   "source": [
    "Make views regressor model"
   ]
  },
  {
   "cell_type": "code",
   "execution_count": 8,
   "metadata": {},
   "outputs": [
    {
     "name": "stdout",
     "output_type": "stream",
     "text": [
      "MAE: 0.6590\n"
     ]
    }
   ],
   "source": [
    "tfidf_train, tfidf_test, y_train, y_test = train_test_split(\n",
    "    tfidf, views, test_size = test_size)\n",
    "\n",
    "# Fit regression model\n",
    "params = {'n_estimators': 1000, 'max_depth': 10, 'min_samples_split': 2,\n",
    "          'learning_rate': 0.01, 'loss': 'ls'}\n",
    "clf_views = GradientBoostingRegressor(**params)\n",
    "\n",
    "clf_views.fit(tfidf_train, y_train)\n",
    "mae = mean_absolute_error(y_test, clf_views.predict(tfidf_test))\n",
    "print(\"MAE: %.4f\" % mae)"
   ]
  },
  {
   "cell_type": "code",
   "execution_count": 9,
   "metadata": {},
   "outputs": [
    {
     "data": {
      "text/plain": [
       "['tfidf_views_GradientBoostingRegressor.pkl']"
      ]
     },
     "execution_count": 9,
     "metadata": {},
     "output_type": "execute_result"
    }
   ],
   "source": [
    "joblib.dump(clf_views, 'tfidf_views_GradientBoostingRegressor.pkl')"
   ]
  },
  {
   "cell_type": "code",
   "execution_count": 10,
   "metadata": {},
   "outputs": [],
   "source": [
    "test_clf = joblib.load('tfidf_views_GradientBoostingRegressor.pkl') "
   ]
  },
  {
   "cell_type": "code",
   "execution_count": 11,
   "metadata": {},
   "outputs": [
    {
     "name": "stdout",
     "output_type": "stream",
     "text": [
      "MAE: 0.6590\n"
     ]
    }
   ],
   "source": [
    "mae = mean_absolute_error(y_test, test_clf.predict(tfidf_test))\n",
    "print(\"MAE: %.4f\" % mae)"
   ]
  },
  {
   "cell_type": "markdown",
   "metadata": {},
   "source": [
    "Make num favorers regressor model"
   ]
  },
  {
   "cell_type": "code",
   "execution_count": 13,
   "metadata": {},
   "outputs": [
    {
     "name": "stdout",
     "output_type": "stream",
     "text": [
      "MAE: 0.0776\n"
     ]
    }
   ],
   "source": [
    "tfidf_train, tfidf_test, y_train, y_test = train_test_split(\n",
    "    tfidf, favorers, test_size = test_size)\n",
    "\n",
    "# Fit regression model\n",
    "params = {'n_estimators': 1000, 'max_depth': 10, 'min_samples_split': 2,\n",
    "          'learning_rate': 0.01, 'loss': 'ls'}\n",
    "clf_num_favorers = GradientBoostingRegressor(**params)\n",
    "\n",
    "clf_num_favorers.fit(tfidf_train, y_train)\n",
    "mae = mean_absolute_error(y_test, clf_num_favorers.predict(tfidf_test))\n",
    "print(\"MAE: %.4f\" % mae)"
   ]
  },
  {
   "cell_type": "code",
   "execution_count": 14,
   "metadata": {},
   "outputs": [
    {
     "data": {
      "text/plain": [
       "['tfidf_num_favorers_GradientBoostingRegressor.pkl']"
      ]
     },
     "execution_count": 14,
     "metadata": {},
     "output_type": "execute_result"
    }
   ],
   "source": [
    "joblib.dump(clf_num_favorers, 'tfidf_num_favorers_GradientBoostingRegressor.pkl')"
   ]
  },
  {
   "cell_type": "code",
   "execution_count": 15,
   "metadata": {},
   "outputs": [],
   "source": [
    "test_clf = joblib.load('tfidf_num_favorers_GradientBoostingRegressor.pkl') "
   ]
  },
  {
   "cell_type": "code",
   "execution_count": 16,
   "metadata": {},
   "outputs": [
    {
     "name": "stdout",
     "output_type": "stream",
     "text": [
      "MAE: 0.0776\n"
     ]
    }
   ],
   "source": [
    "mae = mean_absolute_error(y_test, test_clf.predict(tfidf_test))\n",
    "print(\"MAE: %.4f\" % mae)"
   ]
  },
  {
   "cell_type": "code",
   "execution_count": null,
   "metadata": {},
   "outputs": [],
   "source": []
  },
  {
   "cell_type": "code",
   "execution_count": null,
   "metadata": {},
   "outputs": [],
   "source": [
    "cluster = lda.fit_transform(tf)"
   ]
  },
  {
   "cell_type": "code",
   "execution_count": null,
   "metadata": {},
   "outputs": [],
   "source": [
    "predict = lda.transform(tf[0])"
   ]
  },
  {
   "cell_type": "code",
   "execution_count": null,
   "metadata": {},
   "outputs": [],
   "source": [
    "print(all_features[0])\n",
    "print(tf[0])\n",
    "predict = lda.transform(tf[0])\n",
    "print(predict)"
   ]
  },
  {
   "cell_type": "code",
   "execution_count": null,
   "metadata": {},
   "outputs": [],
   "source": [
    "topic_list = lda.transform(tf_vectorizer.transform([all_features[0]]))[0]"
   ]
  },
  {
   "cell_type": "code",
   "execution_count": null,
   "metadata": {},
   "outputs": [],
   "source": [
    "topic_list.argmax()"
   ]
  },
  {
   "cell_type": "code",
   "execution_count": null,
   "metadata": {},
   "outputs": [],
   "source": [
    "lda.components_[24]"
   ]
  },
  {
   "cell_type": "code",
   "execution_count": null,
   "metadata": {},
   "outputs": [],
   "source": []
  },
  {
   "cell_type": "code",
   "execution_count": null,
   "metadata": {},
   "outputs": [],
   "source": [
    "def print_top_words(model, feature_names, n_top_words, topic_group):\n",
    "    for topic_idx, topic in enumerate(model.components_):\n",
    "        if (topic_idx == topic_group):\n",
    "            message = \"Topic #%d: \" % topic_idx\n",
    "            #message += \" \".join([feature_names[i] for i in topic.argsort()[:-n_top_words - 1:-1]])\n",
    "            result = \" \".join([feature_names[i] for i in topic.argsort()[:-n_top_words - 1:-1]])\n",
    "            message += result\n",
    "            print(message)\n",
    "    print()\n",
    "    return(result)"
   ]
  },
  {
   "cell_type": "code",
   "execution_count": null,
   "metadata": {},
   "outputs": [],
   "source": [
    "test_top_words = print_top_words(lda, tf_feature_names, 50, 24)\n",
    "print(test_top_words.split())"
   ]
  },
  {
   "cell_type": "code",
   "execution_count": null,
   "metadata": {},
   "outputs": [],
   "source": [
    "print(all_features[0].split())"
   ]
  },
  {
   "cell_type": "code",
   "execution_count": null,
   "metadata": {},
   "outputs": [],
   "source": [
    "list(set(all_features[0].split()).intersection(set(test_top_words.split())))"
   ]
  },
  {
   "cell_type": "code",
   "execution_count": null,
   "metadata": {},
   "outputs": [],
   "source": [
    "def top_ten_features(model_features, test_features):\n",
    "    new_features = 0\n",
    "    index = 0\n",
    "    new_features_list = []\n",
    "    while new_features < 10:\n",
    "        if model_features[index] != test_features[index]:\n",
    "            new_features += 1\n",
    "            new_features_list.append(model_features)"
   ]
  },
  {
   "cell_type": "code",
   "execution_count": null,
   "metadata": {},
   "outputs": [],
   "source": [
    "print_top_words(lda, tf_feature_names, 10)"
   ]
  },
  {
   "cell_type": "code",
   "execution_count": null,
   "metadata": {},
   "outputs": [],
   "source": []
  },
  {
   "cell_type": "code",
   "execution_count": null,
   "metadata": {},
   "outputs": [],
   "source": []
  },
  {
   "cell_type": "code",
   "execution_count": null,
   "metadata": {},
   "outputs": [],
   "source": []
  }
 ],
 "metadata": {
  "kernelspec": {
   "display_name": "Python 3",
   "language": "python",
   "name": "python3"
  },
  "language_info": {
   "codemirror_mode": {
    "name": "ipython",
    "version": 3
   },
   "file_extension": ".py",
   "mimetype": "text/x-python",
   "name": "python",
   "nbconvert_exporter": "python",
   "pygments_lexer": "ipython3",
   "version": "3.6.6"
  }
 },
 "nbformat": 4,
 "nbformat_minor": 2
}
