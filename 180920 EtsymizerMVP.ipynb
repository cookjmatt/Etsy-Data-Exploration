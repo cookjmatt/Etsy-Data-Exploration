{
 "cells": [
  {
   "cell_type": "code",
   "execution_count": 1,
   "metadata": {},
   "outputs": [],
   "source": [
    "import requests\n",
    "import numpy as np\n",
    "from sklearn.feature_extraction.text import CountVectorizer\n",
    "from sklearn.feature_extraction.text import TfidfVectorizer\n",
    "from sklearn.externals import joblib\n",
    "from sklearn.metrics import mean_absolute_error\n",
    "from sklearn.metrics import explained_variance_score\n",
    "from sklearn.metrics import r2_score\n",
    "from sklearn.model_selection import train_test_split\n",
    "\n",
    "API_KEY = 'c1lq1mzoyp1z0nx6bsqi9lrk'\n",
    "request_data = {'api_key':'c1lq1mzoyp1z0nx6bsqi9lrk'}\n",
    "\n",
    "listing_id = 570279570\n",
    "request = str('https://openapi.etsy.com/v2/listings/'+str(listing_id))\n",
    "r = requests.get(request, request_data).json()"
   ]
  },
  {
   "cell_type": "code",
   "execution_count": 2,
   "metadata": {},
   "outputs": [
    {
     "name": "stderr",
     "output_type": "stream",
     "text": [
      "/home/mc/anaconda3/envs/datascience/lib/python3.6/site-packages/sklearn/ensemble/weight_boosting.py:29: DeprecationWarning: numpy.core.umath_tests is an internal NumPy module and should not be imported. It will be removed in a future NumPy release.\n",
      "  from numpy.core.umath_tests import inner1d\n"
     ]
    }
   ],
   "source": [
    "# Load models and data structures\n",
    "views_est = joblib.load('tfidf_views_GradientBoostingRegressor.pkl') \n",
    "price_est = joblib.load('tfidf_price_GradientBoostingRegressor.pkl') \n",
    "lda = joblib.load('tf_lda.pkl') \n",
    "nmf = joblib.load('tfidf_nmf.pkl')\n",
    "listings = joblib.load('listings.pkl')\n",
    "features = joblib.load('all_features.pickle')\n",
    "tf_features = joblib.load('tf_features.pkl')\n",
    "tfidf_features = joblib.load('tfidf_features.pkl')\n",
    "tf_vectorizer = joblib.load('tf_vectorizer.pkl')\n",
    "tfidf_vectorizer = joblib.load('tfidf_vectorizer.pkl')\n",
    "\n",
    "tf_feature_names = tf_vectorizer.get_feature_names()\n",
    "prices = np.nan_to_num(listings['price'].tolist())\n",
    "views = np.nan_to_num(listings['views'].tolist())\n",
    "favorers = np.nan_to_num(listings['num_favorers'].tolist())\n",
    "test_size = 0.1\n",
    "\n",
    "tfidf_price_train, tfidf_price_test, y_price_train, y_price_test = train_test_split(\n",
    "    tfidf_features, prices, test_size = test_size)\n",
    "\n",
    "tfidf_views_train, tfidf_views_test, y_views_train, y_views_test = train_test_split(\n",
    "    tfidf_features, views, test_size = test_size)\n",
    "\n",
    "n_features = 1000 # Number of features\n",
    "n_samples = 36570 # Number of samples\n",
    "n_components = 100 # Number of components\n",
    "n_top_words = 10  # Number of top words"
   ]
  },
  {
   "cell_type": "markdown",
   "metadata": {},
   "source": [
    "Define functions"
   ]
  },
  {
   "cell_type": "code",
   "execution_count": 3,
   "metadata": {},
   "outputs": [],
   "source": [
    "# Print the top words for each topic in a model (NMF or LDA in this case)\n",
    "def print_top_words(model, feature_names, n_top_words):\n",
    "    for topic_idx, topic in enumerate(model.components_):\n",
    "        message = \"Topic #%d: \" % topic_idx\n",
    "        message += \" \".join([feature_names[i]\n",
    "                             for i in topic.argsort()[:-n_top_words - 1:-1]])\n",
    "        print(message)\n",
    "    print()"
   ]
  },
  {
   "cell_type": "code",
   "execution_count": 4,
   "metadata": {},
   "outputs": [],
   "source": [
    "# Return a list of top features for a given topic group in a model\n",
    "def model_topic_features(model, feature_names, n_top_words, topic_group):\n",
    "    for topic_idx, topic in enumerate(model.components_):\n",
    "        if (topic_idx == topic_group):\n",
    "            result = \" \".join([feature_names[i] for i in topic.argsort()[:-n_top_words - 1:-1]])\n",
    "    return(result)"
   ]
  },
  {
   "cell_type": "code",
   "execution_count": null,
   "metadata": {},
   "outputs": [],
   "source": []
  },
  {
   "cell_type": "code",
   "execution_count": 5,
   "metadata": {},
   "outputs": [],
   "source": [
    "def find_similar_features(model, features):\n",
    "    topic_list = model.transform(tf_vectorizer.transform([features]))[0].argmax()\n",
    "    topic_features = model_topic_features(model, tf_feature_names, 50, topic_list)\n",
    "    new_features = [item for item in topic_features.split() if item not in features.split()]\n",
    "    return(new_features)"
   ]
  },
  {
   "cell_type": "code",
   "execution_count": 6,
   "metadata": {},
   "outputs": [],
   "source": [
    "# Get features (tags + materials) for a given Etsy ID\n",
    "def get_features_from_listing_id (listing_id):\n",
    "    request = str('https://openapi.etsy.com/v2/listings/'+str(listing_id))\n",
    "    r = requests.get(request, request_data).json()\n",
    "    tags = \" \".join(r.get('results')[0].get('tags')).lower()\n",
    "    materials = \" \".join(r.get('results')[0].get('materials')).lower()\n",
    "    features = tags+\" \"+materials\n",
    "    return features"
   ]
  },
  {
   "cell_type": "code",
   "execution_count": 95,
   "metadata": {},
   "outputs": [],
   "source": [
    "# Get price, views, and number of favorers for a given Etsy ID\n",
    "def get_listing_info(listing_id):\n",
    "    request = str('https://openapi.etsy.com/v2/listings/'+str(listing_id))\n",
    "    r = requests.get(request, request_data).json()\n",
    "    original_creation_date = r.get('results')[0].get('original_creation_tsz')\n",
    "    original_creation_date = datetime.strptime(datetime.utcfromtimestamp(original_creation_date).strftime('%Y-%m-%d %H:%M:%S'), \"%Y-%m-%d %H:%M:%S\")\n",
    "    ending_date = r.get('results')[0].get('ending_tsz')\n",
    "    ending_date = datetime.strptime(datetime.utcfromtimestamp(ending_date).strftime('%Y-%m-%d %H:%M:%S'), \"%Y-%m-%d %H:%M:%S\")\n",
    "    difference = (ending_date - original_creation_date).days\n",
    "    price = r.get('results')[0].get('price')\n",
    "    views = r.get('results')[0].get('views')\n",
    "    views = views / difference\n",
    "    num_favorers = r.get('results')[0].get('num_favorers')\n",
    "    num_favorers = num_favorers / difference\n",
    "    return([price, views, num_favorers, difference])"
   ]
  },
  {
   "cell_type": "code",
   "execution_count": 96,
   "metadata": {},
   "outputs": [],
   "source": [
    "def find_similar_features_from_etsy_id(etsy_id, model):\n",
    "    original_features = get_features_from_listing_id(etsy_id)\n",
    "    features = \" \".join(tfidf_vectorizer.inverse_transform(tfidf_vectorizer.transform([original_features]))[0])\n",
    "    similar_features = \" \".join(find_similar_features(model, features)[:10])\n",
    "    return [features, similar_features]"
   ]
  },
  {
   "cell_type": "code",
   "execution_count": 101,
   "metadata": {},
   "outputs": [],
   "source": [
    "def return_model_info(etsy_id):\n",
    "    feature_info = find_similar_features_from_etsy_id(etsy_id, lda)\n",
    "    features = feature_info[0]\n",
    "    similar_features = feature_info[1]\n",
    "    listing_info = get_listing_info(etsy_id)\n",
    "    original_price = listing_info[0]\n",
    "    original_price_prediction = price_est.predict(tf_vectorizer.transform([features]))[0]\n",
    "    original_views = listing_info[1]\n",
    "    original_views_prediction = views_est.predict(tf_vectorizer.transform([features]))[0]\n",
    "    num_favorers = listing_info[2]\n",
    "    print(features)\n",
    "    print(similar_features)\n",
    "    print(lda.score(similar_features, features))\n",
    "    return[features, similar_features, original_price, original_price_prediction, original_views, original_views_prediction, num_favorers]"
   ]
  },
  {
   "cell_type": "code",
   "execution_count": 55,
   "metadata": {},
   "outputs": [],
   "source": [
    "request = str('https://openapi.etsy.com/v2/listings/'+str(listing_id))\n",
    "r = requests.get(request, request_data).json()"
   ]
  },
  {
   "cell_type": "code",
   "execution_count": 67,
   "metadata": {},
   "outputs": [
    {
     "data": {
      "text/plain": [
       "546"
      ]
     },
     "execution_count": 67,
     "metadata": {},
     "output_type": "execute_result"
    }
   ],
   "source": [
    "r.get('results')[0].get('num_favorers')"
   ]
  },
  {
   "cell_type": "code",
   "execution_count": 93,
   "metadata": {},
   "outputs": [],
   "source": [
    "from datetime import datetime"
   ]
  },
  {
   "cell_type": "code",
   "execution_count": 106,
   "metadata": {},
   "outputs": [
    {
     "data": {
      "text/plain": [
       "LatentDirichletAllocation(batch_size=128, doc_topic_prior=None,\n",
       "             evaluate_every=-1, learning_decay=0.7,\n",
       "             learning_method='online', learning_offset=50.0,\n",
       "             max_doc_update_iter=100, max_iter=5, mean_change_tol=0.001,\n",
       "             n_components=100, n_jobs=1, n_topics=None, perp_tol=0.1,\n",
       "             random_state=0, topic_word_prior=None,\n",
       "             total_samples=1000000.0, verbose=0)"
      ]
     },
     "execution_count": 106,
     "metadata": {},
     "output_type": "execute_result"
    }
   ],
   "source": [
    "lda"
   ]
  },
  {
   "cell_type": "code",
   "execution_count": null,
   "metadata": {},
   "outputs": [],
   "source": []
  },
  {
   "cell_type": "code",
   "execution_count": 45,
   "metadata": {},
   "outputs": [
    {
     "name": "stdout",
     "output_type": "stream",
     "text": [
      "yarn twins twin sock prop photography photo newborn monkey hat girl earflaps buttons boy baby babies\n"
     ]
    }
   ],
   "source": [
    "print(\" \".join(tfidf_vectorizer.inverse_transform(tfidf_vectorizer.transform([original_features]))[0]))"
   ]
  },
  {
   "cell_type": "code",
   "execution_count": 35,
   "metadata": {},
   "outputs": [],
   "source": [
    "test = nmf.transform(tf_vectorizer.transform([features[0]]))"
   ]
  },
  {
   "cell_type": "code",
   "execution_count": 79,
   "metadata": {},
   "outputs": [
    {
     "data": {
      "text/plain": [
       "['15.00', 114104, 12315]"
      ]
     },
     "execution_count": 79,
     "metadata": {},
     "output_type": "execute_result"
    }
   ],
   "source": [
    "get_listing_info(280073754)"
   ]
  },
  {
   "cell_type": "code",
   "execution_count": 81,
   "metadata": {},
   "outputs": [
    {
     "data": {
      "text/plain": [
       "['women personalized monogrammed monogram hats hat gift embroidered cap baseball',\n",
       " 'sun cotton felt fabric beach flowers cowboy thread ribbon upcycled',\n",
       " '15.00',\n",
       " 22.747132598586468,\n",
       " 114104,\n",
       " 1514.9611808047089,\n",
       " 12315]"
      ]
     },
     "execution_count": 81,
     "metadata": {},
     "output_type": "execute_result"
    }
   ],
   "source": [
    "return_model_info(280073754)"
   ]
  },
  {
   "cell_type": "code",
   "execution_count": null,
   "metadata": {},
   "outputs": [],
   "source": []
  },
  {
   "cell_type": "code",
   "execution_count": 75,
   "metadata": {},
   "outputs": [
    {
     "name": "stdout",
     "output_type": "stream",
     "text": [
      "original_features:  women personalized monogrammed monogram hats hat gift embroidered cap baseball\n",
      "new_features:  sun cotton felt fabric beach flowers cowboy thread ribbon upcycled\n",
      "predicted price:  [22.7471326]\n"
     ]
    }
   ],
   "source": [
    "similar_features = find_similar_features_from_etsy_id(280073754, lda)\n",
    "print(\"original_features: \", similar_features[0])\n",
    "print(\"new_features: \", similar_features[1])\n",
    "print(\"predicted price: \",price_est.predict(tf_vectorizer.transform([similar_features[0]])))"
   ]
  },
  {
   "cell_type": "code",
   "execution_count": 48,
   "metadata": {},
   "outputs": [
    {
     "name": "stdout",
     "output_type": "stream",
     "text": [
      "original_features: women personalized monogrammed monogram hats hat gift embroidered cap baseball\n",
      "\n",
      "new_features: stocking chemo skull pima skullcap wolle spirit infant watch rasta\n"
     ]
    }
   ],
   "source": [
    "similar_features = find_similar_features_from_etsy_id(280073754, nmf)\n",
    "print(\"original_features:\", similar_features[0])\n",
    "print(\"\\nnew_features:\", similar_features[1])"
   ]
  },
  {
   "cell_type": "code",
   "execution_count": 49,
   "metadata": {},
   "outputs": [
    {
     "name": "stdout",
     "output_type": "stream",
     "text": [
      "original_features: yarn winter warmer toque prop pom photo knitted knit kids hat girls ear crocheted boys beanies beanie baby\n",
      "\n",
      "new_features: newborn photography boy girl props infant acrylic shower gift button\n"
     ]
    }
   ],
   "source": [
    "similar_features = find_similar_features_from_etsy_id(457283538, lda)\n",
    "print(\"original_features:\", similar_features[0])\n",
    "print(\"\\nnew_features:\", similar_features[1])"
   ]
  },
  {
   "cell_type": "code",
   "execution_count": 50,
   "metadata": {},
   "outputs": [
    {
     "name": "stdout",
     "output_type": "stream",
     "text": [
      "original_features: yarn winter warmer toque prop pom photo knitted knit kids hat girls ear crocheted boys beanies beanie baby\n",
      "\n",
      "new_features: flap designer flaps snowboard clothing earflaps warmers adults rhinestones apparel\n"
     ]
    }
   ],
   "source": [
    "similar_features = find_similar_features_from_etsy_id(457283538, nmf)\n",
    "print(\"original_features:\", similar_features[0])\n",
    "print(\"\\nnew_features:\", similar_features[1])"
   ]
  },
  {
   "cell_type": "code",
   "execution_count": 51,
   "metadata": {},
   "outputs": [
    {
     "name": "stdout",
     "output_type": "stream",
     "text": [
      "original_features: yellow slouch satin mustard hat cotton cap beanie\n",
      "\n",
      "new_features: green yarn soft acrylic washable handmade bright color knit olive\n"
     ]
    }
   ],
   "source": [
    "similar_features = find_similar_features_from_etsy_id(561078472, lda)\n",
    "print(\"original_features:\", similar_features[0])\n",
    "print(\"\\nnew_features:\", similar_features[1])"
   ]
  },
  {
   "cell_type": "code",
   "execution_count": 52,
   "metadata": {},
   "outputs": [
    {
     "name": "stdout",
     "output_type": "stream",
     "text": [
      "original_features: yellow slouch satin mustard hat cotton cap beanie\n",
      "\n",
      "new_features: minion orange despicable gold bee neon bright stripes chick ribbon\n"
     ]
    }
   ],
   "source": [
    "similar_features = find_similar_features_from_etsy_id(561078472, nmf)\n",
    "print(\"original_features:\", similar_features[0])\n",
    "print(\"\\nnew_features:\", similar_features[1])"
   ]
  },
  {
   "cell_type": "code",
   "execution_count": null,
   "metadata": {},
   "outputs": [],
   "source": []
  },
  {
   "cell_type": "code",
   "execution_count": null,
   "metadata": {},
   "outputs": [],
   "source": [
    "from datetime import datetime\n",
    "start = listings['original_creation_tsz'].tolist()\n",
    "end = listings['ending_tsz'].tolist()\n",
    "d_start = [datetime.strptime(datetime.utcfromtimestamp(x).strftime('%Y-%m-%d %H:%M:%S'), \"%Y-%m-%d %H:%M:%S\") for i, x in enumerate(start)]\n",
    "d_end = [datetime.strptime(datetime.utcfromtimestamp(x).strftime('%Y-%m-%d %H:%M:%S'), \"%Y-%m-%d %H:%M:%S\") for i, x in enumerate(end)]\n",
    "difference = [(d_end[i] - d_start[i]).days for i in range(len(d_start))]\n",
    "listings = listings.assign(days=pd.Series(difference))\n",
    "views = listings['views'].tolist()\n",
    "num_favorers = listings['num_favorers'].tolist()\n",
    "days = listings['days'].tolist()\n",
    "views_days = [views[i] / days[i] for i in range(len(views))]\n",
    "num_favorers_days = [num_favorers[i] / days[i] for i in range(len(num_favorers))]\n",
    "listings = listings.assign(views=pd.Series(views_days))\n",
    "listings = listings.assign(num_favorers=pd.Series(num_favorers_days))\n",
    "listings.to_pickle(\"./listings.pkl\")"
   ]
  }
 ],
 "metadata": {
  "kernelspec": {
   "display_name": "Python 3",
   "language": "python",
   "name": "python3"
  },
  "language_info": {
   "codemirror_mode": {
    "name": "ipython",
    "version": 3
   },
   "file_extension": ".py",
   "mimetype": "text/x-python",
   "name": "python",
   "nbconvert_exporter": "python",
   "pygments_lexer": "ipython3",
   "version": "3.6.6"
  }
 },
 "nbformat": 4,
 "nbformat_minor": 2
}
