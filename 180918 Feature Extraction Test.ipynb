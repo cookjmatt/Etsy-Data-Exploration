{
 "cells": [
  {
   "cell_type": "code",
   "execution_count": 4,
   "metadata": {},
   "outputs": [],
   "source": [
    "from sklearn.feature_extraction import DictVectorizer"
   ]
  },
  {
   "cell_type": "code",
   "execution_count": 10,
   "metadata": {},
   "outputs": [
    {
     "data": {
      "text/plain": [
       "array([[ 1.,  0.,  0.,  1.,  0., 33.],\n",
       "       [ 0.,  1.,  0.,  0.,  1., 12.],\n",
       "       [ 0.,  0.,  1.,  0.,  1., 18.]])"
      ]
     },
     "execution_count": 10,
     "metadata": {},
     "output_type": "execute_result"
    }
   ],
   "source": [
    "measurements = [\n",
    "    {'city': 'Dubai', 'temperature': 33., 'hemisphere': 'East'},\n",
    "    {'city': 'London', 'temperature': 12., 'hemisphere': 'West'},\n",
    "    {'city': 'San Francisco', 'temperature': 18., 'hemisphere': 'West'},\n",
    "]\n",
    "vec = DictVectorizer()\n",
    "vec.fit_transform(measurements).toarray()"
   ]
  },
  {
   "cell_type": "code",
   "execution_count": null,
   "metadata": {},
   "outputs": [],
   "source": [
    ">>> measurements = [\n",
    "...     {'city': 'Dubai', 'temperature': 33.},\n",
    "...     {'city': 'London', 'temperature': 12.},\n",
    "...     {'city': 'San Francisco', 'temperature': 18.},\n",
    "... ]\n",
    "\n",
    ">>> from sklearn.feature_extraction import DictVectorizer\n",
    ">>> vec = DictVectorizer()\n",
    "\n",
    ">>> vec.fit_transform(measurements).toarray()\n",
    "array([[  1.,   0.,   0.,  33.],\n",
    "       [  0.,   1.,   0.,  12.],\n",
    "       [  0.,   0.,   1.,  18.]])\n",
    "\n",
    ">>> vec.get_feature_names()\n",
    "['city=Dubai', 'city=London', 'city=San Francisco', 'temperature']"
   ]
  }
 ],
 "metadata": {
  "kernelspec": {
   "display_name": "Python 3",
   "language": "python",
   "name": "python3"
  },
  "language_info": {
   "codemirror_mode": {
    "name": "ipython",
    "version": 3
   },
   "file_extension": ".py",
   "mimetype": "text/x-python",
   "name": "python",
   "nbconvert_exporter": "python",
   "pygments_lexer": "ipython3",
   "version": "3.6.6"
  }
 },
 "nbformat": 4,
 "nbformat_minor": 2
}
