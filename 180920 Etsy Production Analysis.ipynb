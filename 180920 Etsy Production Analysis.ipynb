{
 "cells": [
  {
   "cell_type": "code",
   "execution_count": null,
   "metadata": {},
   "outputs": [],
   "source": [
    "n_features = 1000 # Number of features\n",
    "n_samples = 36570 # Number of samples\n",
    "n_components = 100 # Number of components\n",
    "n_top_words = 10  # Number of top words\n",
    "\n",
    "# Use tf-idf features for NMF.\n",
    "tfidf_vectorizer = TfidfVectorizer(max_df=0.95, min_df=2,\n",
    "                                   max_features=n_features,\n",
    "                                   stop_words='english')\n",
    "tfidf = tfidf_vectorizer.fit_transform(features)\n",
    "\n",
    "# Use tf (raw term count) features for LDA.\n",
    "tf_vectorizer = CountVectorizer(max_df=0.95, min_df=2,\n",
    "                                max_features=n_features,\n",
    "                                stop_words='english')\n",
    "tf = tf_vectorizer.fit_transform(features)\n",
    "\n",
    "joblib.dump(tfidf, 'tfidf_features.pkl')\n",
    "joblib.dump(tfidf_vectorizer, 'tfidf_vectorizer.pkl')\n",
    "joblib.dump(tf, 'tf_features.pkl')\n",
    "joblib.dump(tf_vectorizer, 'tf_vectorizer.pkl')"
   ]
  },
  {
   "cell_type": "markdown",
   "metadata": {},
   "source": [
    "Start here"
   ]
  },
  {
   "cell_type": "code",
   "execution_count": 7,
   "metadata": {},
   "outputs": [],
   "source": [
    "import numpy as np\n",
    "from sklearn.feature_extraction.text import CountVectorizer\n",
    "from sklearn.feature_extraction.text import TfidfVectorizer\n",
    "from sklearn.externals import joblib\n",
    "from sklearn.metrics import mean_absolute_error\n",
    "from sklearn.metrics import explained_variance_score\n",
    "from sklearn.metrics import r2_score\n",
    "from sklearn.model_selection import train_test_split\n",
    "from sklearn.metrics import explained_variance_score"
   ]
  },
  {
   "cell_type": "code",
   "execution_count": 3,
   "metadata": {},
   "outputs": [],
   "source": [
    "def print_top_words(model, feature_names, n_top_words):\n",
    "    for topic_idx, topic in enumerate(model.components_):\n",
    "        message = \"Topic #%d: \" % topic_idx\n",
    "        message += \" \".join([feature_names[i]\n",
    "                             for i in topic.argsort()[:-n_top_words - 1:-1]])\n",
    "        print(message)\n",
    "    print()"
   ]
  },
  {
   "cell_type": "code",
   "execution_count": 17,
   "metadata": {},
   "outputs": [],
   "source": [
    "# Load models and data structures\n",
    "views_est = joblib.load('tfidf_views_GradientBoostingRegressor.pkl') \n",
    "price_est = joblib.load('tfidf_price_GradientBoostingRegressor.pkl') \n",
    "num_favorers_est = joblib.load('tfidf_num_favorers_GradientBoostingRegressor.pkl') \n",
    "lda = joblib.load('tf_lda.pkl') \n",
    "nmf = joblib.load('tfidf_nmf.pkl')\n",
    "listings = joblib.load('listings.pkl')\n",
    "features = joblib.load('all_features.pickle')\n",
    "tf_features = joblib.load('tf_features.pkl')\n",
    "tfidf_features = joblib.load('tfidf_features.pkl')\n",
    "tf_vectorizer = joblib.load('tf_vectorizer.pkl')\n",
    "tfidf_vectorizer = joblib.load('tfidf_vectorizer.pkl')\n",
    "\n",
    "tf_feature_names = tf_vectorizer.get_feature_names()\n",
    "prices = np.nan_to_num(listings['price'].tolist())\n",
    "views = np.nan_to_num(listings['views'].tolist())\n",
    "favorers = np.nan_to_num(listings['num_favorers'].tolist())\n",
    "test_size = 0.1\n",
    "\n",
    "tfidf_price_train, tfidf_price_test, y_price_train, y_price_test = train_test_split(\n",
    "    tfidf_features, prices, test_size = test_size)\n",
    "\n",
    "tfidf_views_train, tfidf_views_test, y_views_train, y_views_test = train_test_split(\n",
    "    tfidf_features, views, test_size = test_size)\n",
    "\n",
    "tfidf_num_favorers_train, tfidf_num_favorers_test, y_num_favorers_train, y_num_favorers_test = train_test_split(\n",
    "    tfidf_features, favorers, test_size = test_size)\n",
    "\n",
    "n_features = 1000 # Number of features\n",
    "n_samples = 36570 # Number of samples\n",
    "n_components = 100 # Number of components\n",
    "n_top_words = 10  # Number of top words"
   ]
  },
  {
   "cell_type": "code",
   "execution_count": 22,
   "metadata": {},
   "outputs": [
    {
     "name": "stdout",
     "output_type": "stream",
     "text": [
      "5.355894896356402\n",
      "0.9492146261844375\n",
      "0.9492129759370822\n"
     ]
    }
   ],
   "source": [
    "print(mean_absolute_error(y_price_test, price_est.predict(tfidf_price_test)))\n",
    "print(explained_variance_score(y_price_test, price_est.predict(tfidf_price_test)))\n",
    "print(r2_score(y_price_test, price_est.predict(tfidf_price_test)))"
   ]
  },
  {
   "cell_type": "code",
   "execution_count": null,
   "metadata": {},
   "outputs": [],
   "source": [
    "print(\"\\nTopics in NMF model (Frobenius norm):\")\n",
    "tfidf_feature_names = tfidf_vectorizer.get_feature_names()\n",
    "print_top_words(nmf, tfidf_feature_names, n_top_words)"
   ]
  },
  {
   "cell_type": "code",
   "execution_count": null,
   "metadata": {},
   "outputs": [],
   "source": [
    "print(\"\\nTopics in LDA model:\")\n",
    "tf_feature_names = tf_vectorizer.get_feature_names()\n",
    "print_top_words(lda, tf_feature_names, n_top_words)"
   ]
  },
  {
   "cell_type": "code",
   "execution_count": 5,
   "metadata": {},
   "outputs": [
    {
     "name": "stdout",
     "output_type": "stream",
     "text": [
      "MAE: 5.1498\n"
     ]
    }
   ],
   "source": [
    "#Test price regression\n",
    "mae_prices = mean_absolute_error(y_price_test, price_est.predict(tfidf_price_test))\n",
    "print(\"MAE: %.4f\" % mae_prices)"
   ]
  },
  {
   "cell_type": "code",
   "execution_count": 6,
   "metadata": {},
   "outputs": [
    {
     "name": "stdout",
     "output_type": "stream",
     "text": [
      "MAE: 416.0068\n"
     ]
    }
   ],
   "source": [
    "#Test views regression\n",
    "mae_views = mean_absolute_error(y_views_test, views_est.predict(tfidf_views_test))\n",
    "print(\"MAE: %.4f\" % mae_views)"
   ]
  },
  {
   "cell_type": "code",
   "execution_count": null,
   "metadata": {},
   "outputs": [],
   "source": [
    "# Return a list of top features for a given topic group in a model\n",
    "def model_topic_features(model, feature_names, n_top_words, topic_group):\n",
    "    for topic_idx, topic in enumerate(model.components_):\n",
    "        if (topic_idx == topic_group):\n",
    "            result = \" \".join([feature_names[i] for i in topic.argsort()[:-n_top_words - 1:-1]])\n",
    "    return(result)"
   ]
  },
  {
   "cell_type": "code",
   "execution_count": null,
   "metadata": {},
   "outputs": [],
   "source": [
    "# Return a list of the top features for a given topic group in a model that are not in the entry list of features\n",
    "def top_ten_features(model_features, entry_features, num_features):\n",
    "    new_features = 0\n",
    "    index = 0\n",
    "    new_features_list = []\n",
    "    while new_features < num_features:\n",
    "        if model_features[index] != entry_features[index]:\n",
    "            index += 1\n",
    "            new_features += 1\n",
    "            new_features_list.append(model_features)\n",
    "        else\n",
    "            index += 1\n",
    "    return new_features_list"
   ]
  }
 ],
 "metadata": {
  "kernelspec": {
   "display_name": "Python 3",
   "language": "python",
   "name": "python3"
  },
  "language_info": {
   "codemirror_mode": {
    "name": "ipython",
    "version": 3
   },
   "file_extension": ".py",
   "mimetype": "text/x-python",
   "name": "python",
   "nbconvert_exporter": "python",
   "pygments_lexer": "ipython3",
   "version": "3.6.6"
  }
 },
 "nbformat": 4,
 "nbformat_minor": 2
}
